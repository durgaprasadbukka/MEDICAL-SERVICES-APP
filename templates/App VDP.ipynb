{
 "cells": [
  {
   "cell_type": "code",
   "execution_count": 3,
   "id": "9a53f6e6-889c-4f9d-8251-11137c5fad5b",
   "metadata": {},
   "outputs": [
    {
     "name": "stdout",
     "output_type": "stream",
     "text": [
      "Requirement already satisfied: flask in c:\\users\\bdurg\\appdata\\local\\programs\\python\\python313\\lib\\site-packages (3.1.0)\n",
      "Requirement already satisfied: flask_sqlalchemy in c:\\users\\bdurg\\appdata\\local\\programs\\python\\python313\\lib\\site-packages (3.1.1)\n",
      "Requirement already satisfied: flask_login in c:\\users\\bdurg\\appdata\\local\\programs\\python\\python313\\lib\\site-packages (0.6.3)\n",
      "Requirement already satisfied: Werkzeug>=3.1 in c:\\users\\bdurg\\appdata\\local\\programs\\python\\python313\\lib\\site-packages (from flask) (3.1.3)\n",
      "Requirement already satisfied: Jinja2>=3.1.2 in c:\\users\\bdurg\\appdata\\local\\programs\\python\\python313\\lib\\site-packages (from flask) (3.1.5)\n",
      "Requirement already satisfied: itsdangerous>=2.2 in c:\\users\\bdurg\\appdata\\local\\programs\\python\\python313\\lib\\site-packages (from flask) (2.2.0)\n",
      "Requirement already satisfied: click>=8.1.3 in c:\\users\\bdurg\\appdata\\local\\programs\\python\\python313\\lib\\site-packages (from flask) (8.1.8)\n",
      "Requirement already satisfied: blinker>=1.9 in c:\\users\\bdurg\\appdata\\local\\programs\\python\\python313\\lib\\site-packages (from flask) (1.9.0)\n",
      "Requirement already satisfied: sqlalchemy>=2.0.16 in c:\\users\\bdurg\\appdata\\local\\programs\\python\\python313\\lib\\site-packages (from flask_sqlalchemy) (2.0.38)\n",
      "Requirement already satisfied: colorama in c:\\users\\bdurg\\appdata\\local\\programs\\python\\python313\\lib\\site-packages (from click>=8.1.3->flask) (0.4.6)\n",
      "Requirement already satisfied: MarkupSafe>=2.0 in c:\\users\\bdurg\\appdata\\local\\programs\\python\\python313\\lib\\site-packages (from Jinja2>=3.1.2->flask) (3.0.2)\n",
      "Requirement already satisfied: greenlet!=0.4.17 in c:\\users\\bdurg\\appdata\\local\\programs\\python\\python313\\lib\\site-packages (from sqlalchemy>=2.0.16->flask_sqlalchemy) (3.1.1)\n",
      "Requirement already satisfied: typing-extensions>=4.6.0 in c:\\users\\bdurg\\appdata\\local\\programs\\python\\python313\\lib\\site-packages (from sqlalchemy>=2.0.16->flask_sqlalchemy) (4.12.2)\n"
     ]
    },
    {
     "name": "stderr",
     "output_type": "stream",
     "text": [
      "\n",
      "[notice] A new release of pip is available: 24.3.1 -> 25.0.1\n",
      "[notice] To update, run: python.exe -m pip install --upgrade pip\n"
     ]
    }
   ],
   "source": [
    "!pip install flask flask_sqlalchemy flask_login"
   ]
  },
  {
   "cell_type": "code",
   "execution_count": 5,
   "id": "85fd410f-de8a-48f7-9a3b-b9c4e305f353",
   "metadata": {},
   "outputs": [],
   "source": [
    "# Create app.py file inside your project folder\n",
    "with open(\"app.py\", \"w\") as f:\n",
    "    f.write(\"# This is your Flask app file\\n\")"
   ]
  },
  {
   "cell_type": "code",
   "execution_count": 6,
   "id": "43229634-3b36-418c-8ec0-7337593adc95",
   "metadata": {},
   "outputs": [],
   "source": [
    "import os\n",
    "os.makedirs(\"templates\", exist_ok=True)"
   ]
  },
  {
   "cell_type": "code",
   "execution_count": 7,
   "id": "ad49fc60-6eac-4c96-be2a-a5e87a960d9c",
   "metadata": {},
   "outputs": [],
   "source": [
    "with open(\"templates/register.html\", \"w\") as f:\n",
    "    f.write(\"\"\"\n",
    "<!DOCTYPE html>\n",
    "<html>\n",
    "<head>\n",
    "    <title>Register</title>\n",
    "</head>\n",
    "<body>\n",
    "    <h2>Register</h2>\n",
    "    <form method=\"POST\">\n",
    "        <input type=\"text\" name=\"username\" placeholder=\"Enter Username\" required>\n",
    "        <input type=\"password\" name=\"password\" placeholder=\"Enter Password\" required>\n",
    "        <button type=\"submit\">Register</button>\n",
    "    </form>\n",
    "</body>\n",
    "</html>\n",
    "\"\"\")"
   ]
  },
  {
   "cell_type": "code",
   "execution_count": 8,
   "id": "0d0b8907-ee91-4106-b9a8-e17b0a27fb00",
   "metadata": {},
   "outputs": [],
   "source": [
    "with open(\"templates/login.html\", \"w\") as f:\n",
    "    f.write(\"\"\"\n",
    "<!DOCTYPE html>\n",
    "<html>\n",
    "<head>\n",
    "    <title>Login</title>\n",
    "</head>\n",
    "<body>\n",
    "    <h2>Login</h2>\n",
    "    <form method=\"POST\">\n",
    "        <input type=\"text\" name=\"username\" placeholder=\"Enter Username\" required>\n",
    "        <input type=\"password\" name=\"password\" placeholder=\"Enter Password\" required>\n",
    "        <button type=\"submit\">Login</button>\n",
    "    </form>\n",
    "</body>\n",
    "</html>\n",
    "\"\"\")"
   ]
  }
 ],
 "metadata": {
  "kernelspec": {
   "display_name": "Python 3 (ipykernel)",
   "language": "python",
   "name": "python3"
  },
  "language_info": {
   "codemirror_mode": {
    "name": "ipython",
    "version": 3
   },
   "file_extension": ".py",
   "mimetype": "text/x-python",
   "name": "python",
   "nbconvert_exporter": "python",
   "pygments_lexer": "ipython3",
   "version": "3.13.2"
  }
 },
 "nbformat": 4,
 "nbformat_minor": 5
}
